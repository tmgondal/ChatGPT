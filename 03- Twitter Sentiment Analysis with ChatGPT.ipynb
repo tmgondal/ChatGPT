{
 "cells": [
  {
   "cell_type": "markdown",
   "id": "fd7f77ec",
   "metadata": {},
   "source": [
    "## Code with Twiter API"
   ]
  },
  {
   "cell_type": "code",
   "execution_count": null,
   "id": "0a4699b0",
   "metadata": {},
   "outputs": [],
   "source": [
    "import tweepy\n",
    "from textblob import TextBlob\n",
    "\n",
    "# Twitter API credentials\n",
    "consumer_key = \"YOUR_CONSUMER_KEY\"\n",
    "consumer_secret = \"YOUR_CONSUMER_SECRET\"\n",
    "access_token = \"YOUR_ACCESS_TOKEN\"\n",
    "access_token_secret = \"YOUR_ACCESS_TOKEN_SECRET\"\n",
    "\n",
    "# Authenticate with Twitter\n",
    "auth = tweepy.OAuthHandler(consumer_key, consumer_secret)\n",
    "auth.set_access_token(access_token, access_token_secret)\n",
    "api = tweepy.API(auth)\n",
    "\n",
    "# Perform sentiment analysis\n",
    "def perform_sentiment_analysis(tweet):\n",
    "    analysis = TextBlob(tweet)\n",
    "    sentiment_score = analysis.sentiment.polarity\n",
    "    if sentiment_score > 0:\n",
    "        return 'Positive'\n",
    "    elif sentiment_score == 0:\n",
    "        return 'Neutral'\n",
    "    else:\n",
    "        return 'Negative'\n",
    "\n",
    "# Get tweets and perform sentiment analysis\n",
    "def analyze_tweets(query, count):\n",
    "    tweets = []\n",
    "    try:\n",
    "        # Fetch tweets\n",
    "        fetched_tweets = api.search(q=query, count=count)\n",
    "\n",
    "        # Analyze each tweet\n",
    "        for tweet in fetched_tweets:\n",
    "            analyzed_tweet = {}\n",
    "            analyzed_tweet['text'] = tweet.text\n",
    "            analyzed_tweet['sentiment'] = perform_sentiment_analysis(tweet.text)\n",
    "            tweets.append(analyzed_tweet)\n",
    "\n",
    "        return tweets\n",
    "\n",
    "    except tweepy.TweepError as e:\n",
    "        print(\"Error : \" + str(e))\n",
    "\n",
    "# Example usage\n",
    "query = \"OpenAI\"\n",
    "count = 10\n",
    "results = analyze_tweets(query, count)\n",
    "\n",
    "# Print the results\n",
    "for tweet in results:\n",
    "    print(\"Text: \", tweet['text'])\n",
    "    print(\"Sentiment: \", tweet['sentiment'])\n",
    "    print(\"---------------------------\")\n"
   ]
  },
  {
   "cell_type": "markdown",
   "id": "ae6bdae5",
   "metadata": {},
   "source": [
    "## Simple Code"
   ]
  },
  {
   "cell_type": "code",
   "execution_count": 13,
   "id": "812a9322",
   "metadata": {},
   "outputs": [
    {
     "name": "stdout",
     "output_type": "stream",
     "text": [
      "Text:  Elon Musk’s claim found ‘misleading’\n",
      "Sentiment:  Neutral\n",
      "---------------------------\n",
      "Text:  The weather is beautiful today.\n",
      "Sentiment:  Positive\n",
      "---------------------------\n",
      "Text:  I'm feeling sad.\n",
      "Sentiment:  Negative\n",
      "---------------------------\n",
      "Text:  This restaurant has terrible service.\n",
      "Sentiment:  Negative\n",
      "---------------------------\n"
     ]
    }
   ],
   "source": [
    "from textblob import TextBlob\n",
    "\n",
    "# Perform sentiment analysis\n",
    "def perform_sentiment_analysis(tweet):\n",
    "    analysis = TextBlob(tweet)\n",
    "    sentiment_score = analysis.sentiment.polarity\n",
    "    if sentiment_score > 0:\n",
    "        return 'Positive'\n",
    "    elif sentiment_score == 0:\n",
    "        return 'Neutral'\n",
    "    else:\n",
    "        return 'Negative'\n",
    "\n",
    "# List of example tweets\n",
    "tweets = [\n",
    "    \"Elon Musk’s claim found ‘misleading’\",\n",
    "    \"The weather is beautiful today.\",\n",
    "    \"I'm feeling sad.\",\n",
    "    \"This restaurant has terrible service.\"\n",
    "]\n",
    "\n",
    "# Analyze each tweet\n",
    "for tweet in tweets:\n",
    "    sentiment = perform_sentiment_analysis(tweet)\n",
    "    print(\"Text: \", tweet)\n",
    "    print(\"Sentiment: \", sentiment)\n",
    "    print(\"---------------------------\")\n"
   ]
  },
  {
   "cell_type": "code",
   "execution_count": null,
   "id": "ef12115d",
   "metadata": {},
   "outputs": [],
   "source": []
  }
 ],
 "metadata": {
  "kernelspec": {
   "display_name": "Python 3 (ipykernel)",
   "language": "python",
   "name": "python3"
  },
  "language_info": {
   "codemirror_mode": {
    "name": "ipython",
    "version": 3
   },
   "file_extension": ".py",
   "mimetype": "text/x-python",
   "name": "python",
   "nbconvert_exporter": "python",
   "pygments_lexer": "ipython3",
   "version": "3.9.12"
  }
 },
 "nbformat": 4,
 "nbformat_minor": 5
}
